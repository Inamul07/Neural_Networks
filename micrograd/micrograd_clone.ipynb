{
  "nbformat": 4,
  "nbformat_minor": 0,
  "metadata": {
    "colab": {
      "provenance": []
    },
    "kernelspec": {
      "name": "python3",
      "display_name": "Python 3"
    },
    "language_info": {
      "name": "python"
    }
  },
  "cells": [
    {
      "cell_type": "markdown",
      "source": [
        "# Building Micrograd"
      ],
      "metadata": {
        "id": "kSAAGp_DHGAG"
      }
    },
    {
      "cell_type": "code",
      "source": [
        "import math"
      ],
      "metadata": {
        "id": "jwwdk1P6itCQ"
      },
      "execution_count": 2,
      "outputs": []
    },
    {
      "cell_type": "code",
      "source": [
        "class Value:\n",
        "\n",
        "    def __init__(self, data, _children = (), _op = '', label = ''):\n",
        "        self.data = data\n",
        "        self._prev = set(_children)\n",
        "        self._op = _op\n",
        "        self.label = label\n",
        "        self.grad = 0.0\n",
        "        self._backward = lambda: None\n",
        "\n",
        "    def __repr__(self):\n",
        "        return f\"Value(data={self.data})\"\n",
        "\n",
        "    def __add__(self, other):\n",
        "        other = other if isinstance(other, Value) else Value(other)\n",
        "        out = Value(self.data + other.data, (self, other), '+')\n",
        "\n",
        "        def _backward():\n",
        "            self.grad += 1.0 * out.grad\n",
        "            other.grad += 1.0 * out.grad\n",
        "\n",
        "        out._backward = _backward\n",
        "        return out\n",
        "\n",
        "    def __radd__(self, other):\n",
        "        return self + other\n",
        "\n",
        "    def __sub__(self, other):\n",
        "        return self + (-other)\n",
        "\n",
        "    def __neg__(self):\n",
        "        return self * -1\n",
        "\n",
        "    def __mul__(self, other):\n",
        "        other = other if isinstance(other, Value) else Value(other)\n",
        "        out = Value(self.data * other.data, (self, other), '*')\n",
        "\n",
        "        def _backward():\n",
        "            self.grad += other.data * out.grad\n",
        "            other.grad += self.data * out.grad\n",
        "\n",
        "        out._backward = _backward\n",
        "        return out\n",
        "\n",
        "    def __rmul__(self, other):\n",
        "        return self * other\n",
        "\n",
        "    def __truediv__(self, other):\n",
        "        return self * (other ** -1)\n",
        "\n",
        "    def __pow__(self, other):\n",
        "        assert isinstance(other, (int, float)), \"only supporting int/float values for now\"\n",
        "        out = Value(self.data ** other, (self, ), f'**{other}')\n",
        "\n",
        "        def _backward():\n",
        "            self.grad += other * (self.data ** (other - 1)) * out.grad\n",
        "\n",
        "        out._backward = _backward\n",
        "        return out\n",
        "\n",
        "    def exp(self):\n",
        "        x = self.data\n",
        "        out = Value(math.exp(x), (self, ), 'exp')\n",
        "\n",
        "        def _backward():\n",
        "            self.grad += out.data * out.grad\n",
        "\n",
        "        out._backward = _backward\n",
        "        return out\n",
        "\n",
        "    def tanh(self):\n",
        "        x = self.data\n",
        "        t = (math.exp(2 * x) - 1) / (math.exp(2 * x) + 1)\n",
        "        out = Value(t, (self, ), 'tanh')\n",
        "\n",
        "        def _backward():\n",
        "            self.grad += (1 - out.data ** 2) * out.grad\n",
        "\n",
        "        out._backward = _backward\n",
        "        return out\n",
        "\n",
        "    def backward(self):\n",
        "        topo = []\n",
        "        visited = set()\n",
        "\n",
        "        def build_topo(v):\n",
        "            if v not in visited:\n",
        "                visited.add(v)\n",
        "                for child in v._prev:\n",
        "                    build_topo(child)\n",
        "                topo.append(v)\n",
        "\n",
        "        build_topo(self)\n",
        "        self.grad = 1.0\n",
        "        for node in reversed(topo):\n",
        "            node._backward()\n",
        "\n"
      ],
      "metadata": {
        "id": "4s6skWdVMnoD"
      },
      "execution_count": 27,
      "outputs": []
    },
    {
      "cell_type": "code",
      "source": [
        "from graphviz import Digraph\n",
        "\n",
        "def trace(root):\n",
        "    nodes, edges = set(), set()\n",
        "\n",
        "    def build(v):\n",
        "        if v not in nodes:\n",
        "            nodes.add(v)\n",
        "            for child in v._prev:\n",
        "                edges.add((child, v))\n",
        "                build(child)\n",
        "\n",
        "    build(root)\n",
        "    return nodes, edges\n",
        "\n",
        "def draw_dot(root):\n",
        "    dot = Digraph(format = 'svg', graph_attr = {'rankdir': 'LR'})\n",
        "\n",
        "    nodes, edges = trace(root)\n",
        "    for n in nodes:\n",
        "        uid = str(id(n))\n",
        "        dot.node(name = uid, label = \"{ %s | data %.4f | grad %.4f }\" % (n.label, n.data, n.grad, ), shape = 'record')\n",
        "        if n._op:\n",
        "            dot.node(name = uid + n._op, label = n._op)\n",
        "            dot.edge(uid + n._op, uid)\n",
        "\n",
        "    for n1, n2 in edges:\n",
        "        dot.edge(str(id(n1)), str(id(n2)) + n2._op)\n",
        "\n",
        "    return dot"
      ],
      "metadata": {
        "id": "M8kTCrpvI7I7"
      },
      "execution_count": 5,
      "outputs": []
    },
    {
      "cell_type": "code",
      "source": [
        "# inputs x1, x2\n",
        "x1 = Value(2.0, label = 'x1')\n",
        "x2 = Value(0.0, label = 'x2')\n",
        "# weights w1, w2\n",
        "w1 = Value(-3.0, label = 'w1')\n",
        "w2 = Value(1.0, label = 'w2')\n",
        "# bias of the neuron\n",
        "b = Value(6.8813735870195432, label = 'b')\n",
        "# x1 * w1 + x2 * w2 + b\n",
        "x1w1 = x1 * w1; x1w1.label = 'x1w1'\n",
        "x2w2 = x2 * w2; x2w2.label = 'x2w2'\n",
        "x1w1plusx2w2 = x1w1 + x2w2; x1w1plusx2w2.label = 'x1w1 + x2w2'\n",
        "n = x1w1plusx2w2 + b; n.label = 'n'\n",
        "# --- tanh ---\n",
        "e = (2 * n).exp()\n",
        "o = (e - 1) / (e + 1); o.label = 'o'\n",
        "# ------------\n",
        "o.backward()\n",
        "draw_dot(o)"
      ],
      "metadata": {
        "colab": {
          "base_uri": "https://localhost:8080/",
          "height": 356
        },
        "id": "4M0tsflsRgbK",
        "outputId": "a34889dc-429c-4522-97ca-6f426e667f73"
      },
      "execution_count": 31,
      "outputs": [
        {
          "output_type": "execute_result",
          "data": {
            "image/svg+xml": "<?xml version=\"1.0\" encoding=\"UTF-8\" standalone=\"no\"?>\n<!DOCTYPE svg PUBLIC \"-//W3C//DTD SVG 1.1//EN\"\n \"http://www.w3.org/Graphics/SVG/1.1/DTD/svg11.dtd\">\n<!-- Generated by graphviz version 2.43.0 (0)\n -->\n<!-- Title: %3 Pages: 1 -->\n<svg width=\"2924pt\" height=\"236pt\"\n viewBox=\"0.00 0.00 2924.00 236.00\" xmlns=\"http://www.w3.org/2000/svg\" xmlns:xlink=\"http://www.w3.org/1999/xlink\">\n<g id=\"graph0\" class=\"graph\" transform=\"scale(1 1) rotate(0) translate(4 232)\">\n<title>%3</title>\n<polygon fill=\"white\" stroke=\"transparent\" points=\"-4,4 -4,-232 2920,-232 2920,4 -4,4\"/>\n<!-- 139349306211344 -->\n<g id=\"node1\" class=\"node\">\n<title>139349306211344</title>\n<polygon fill=\"none\" stroke=\"black\" points=\"666,-82.5 666,-118.5 925,-118.5 925,-82.5 666,-82.5\"/>\n<text text-anchor=\"middle\" x=\"712\" y=\"-96.8\" font-family=\"Times,serif\" font-size=\"14.00\">x1w1 + x2w2</text>\n<polyline fill=\"none\" stroke=\"black\" points=\"758,-82.5 758,-118.5 \"/>\n<text text-anchor=\"middle\" x=\"800.5\" y=\"-96.8\" font-family=\"Times,serif\" font-size=\"14.00\">data &#45;6.0000</text>\n<polyline fill=\"none\" stroke=\"black\" points=\"843,-82.5 843,-118.5 \"/>\n<text text-anchor=\"middle\" x=\"884\" y=\"-96.8\" font-family=\"Times,serif\" font-size=\"14.00\">grad 0.5000</text>\n</g>\n<!-- 139349306201360+ -->\n<g id=\"node14\" class=\"node\">\n<title>139349306201360+</title>\n<ellipse fill=\"none\" stroke=\"black\" cx=\"988\" cy=\"-127.5\" rx=\"27\" ry=\"18\"/>\n<text text-anchor=\"middle\" x=\"988\" y=\"-123.8\" font-family=\"Times,serif\" font-size=\"14.00\">+</text>\n</g>\n<!-- 139349306211344&#45;&gt;139349306201360+ -->\n<g id=\"edge12\" class=\"edge\">\n<title>139349306211344&#45;&gt;139349306201360+</title>\n<path fill=\"none\" stroke=\"black\" d=\"M923.57,-118.51C933.55,-119.92 943,-121.26 951.42,-122.46\"/>\n<polygon fill=\"black\" stroke=\"black\" points=\"951.09,-125.95 961.48,-123.88 952.07,-119.01 951.09,-125.95\"/>\n</g>\n<!-- 139349306211344+ -->\n<g id=\"node2\" class=\"node\">\n<title>139349306211344+</title>\n<ellipse fill=\"none\" stroke=\"black\" cx=\"603\" cy=\"-100.5\" rx=\"27\" ry=\"18\"/>\n<text text-anchor=\"middle\" x=\"603\" y=\"-96.8\" font-family=\"Times,serif\" font-size=\"14.00\">+</text>\n</g>\n<!-- 139349306211344+&#45;&gt;139349306211344 -->\n<g id=\"edge1\" class=\"edge\">\n<title>139349306211344+&#45;&gt;139349306211344</title>\n<path fill=\"none\" stroke=\"black\" d=\"M630.09,-100.5C637.58,-100.5 646.3,-100.5 655.75,-100.5\"/>\n<polygon fill=\"black\" stroke=\"black\" points=\"655.84,-104 665.84,-100.5 655.84,-97 655.84,-104\"/>\n</g>\n<!-- 139349306197904 -->\n<g id=\"node3\" class=\"node\">\n<title>139349306197904</title>\n<polygon fill=\"none\" stroke=\"black\" points=\"326,-110.5 326,-146.5 540,-146.5 540,-110.5 326,-110.5\"/>\n<text text-anchor=\"middle\" x=\"349.5\" y=\"-124.8\" font-family=\"Times,serif\" font-size=\"14.00\">x1w1</text>\n<polyline fill=\"none\" stroke=\"black\" points=\"373,-110.5 373,-146.5 \"/>\n<text text-anchor=\"middle\" x=\"415.5\" y=\"-124.8\" font-family=\"Times,serif\" font-size=\"14.00\">data &#45;6.0000</text>\n<polyline fill=\"none\" stroke=\"black\" points=\"458,-110.5 458,-146.5 \"/>\n<text text-anchor=\"middle\" x=\"499\" y=\"-124.8\" font-family=\"Times,serif\" font-size=\"14.00\">grad 0.5000</text>\n</g>\n<!-- 139349306197904&#45;&gt;139349306211344+ -->\n<g id=\"edge25\" class=\"edge\">\n<title>139349306197904&#45;&gt;139349306211344+</title>\n<path fill=\"none\" stroke=\"black\" d=\"M540.4,-110.77C549.72,-109.21 558.65,-107.72 566.68,-106.39\"/>\n<polygon fill=\"black\" stroke=\"black\" points=\"567.38,-109.82 576.66,-104.72 566.22,-102.91 567.38,-109.82\"/>\n</g>\n<!-- 139349306197904* -->\n<g id=\"node4\" class=\"node\">\n<title>139349306197904*</title>\n<ellipse fill=\"none\" stroke=\"black\" cx=\"263\" cy=\"-128.5\" rx=\"27\" ry=\"18\"/>\n<text text-anchor=\"middle\" x=\"263\" y=\"-124.8\" font-family=\"Times,serif\" font-size=\"14.00\">*</text>\n</g>\n<!-- 139349306197904*&#45;&gt;139349306197904 -->\n<g id=\"edge2\" class=\"edge\">\n<title>139349306197904*&#45;&gt;139349306197904</title>\n<path fill=\"none\" stroke=\"black\" d=\"M290.25,-128.5C297.7,-128.5 306.34,-128.5 315.59,-128.5\"/>\n<polygon fill=\"black\" stroke=\"black\" points=\"315.84,-132 325.84,-128.5 315.84,-125 315.84,-132\"/>\n</g>\n<!-- 139349306205728 -->\n<g id=\"node5\" class=\"node\">\n<title>139349306205728</title>\n<polygon fill=\"none\" stroke=\"black\" points=\"2.5,-55.5 2.5,-91.5 197.5,-91.5 197.5,-55.5 2.5,-55.5\"/>\n<text text-anchor=\"middle\" x=\"19\" y=\"-69.8\" font-family=\"Times,serif\" font-size=\"14.00\">w2</text>\n<polyline fill=\"none\" stroke=\"black\" points=\"35.5,-55.5 35.5,-91.5 \"/>\n<text text-anchor=\"middle\" x=\"75.5\" y=\"-69.8\" font-family=\"Times,serif\" font-size=\"14.00\">data 1.0000</text>\n<polyline fill=\"none\" stroke=\"black\" points=\"115.5,-55.5 115.5,-91.5 \"/>\n<text text-anchor=\"middle\" x=\"156.5\" y=\"-69.8\" font-family=\"Times,serif\" font-size=\"14.00\">grad 0.0000</text>\n</g>\n<!-- 139349306205632* -->\n<g id=\"node26\" class=\"node\">\n<title>139349306205632*</title>\n<ellipse fill=\"none\" stroke=\"black\" cx=\"263\" cy=\"-73.5\" rx=\"27\" ry=\"18\"/>\n<text text-anchor=\"middle\" x=\"263\" y=\"-69.8\" font-family=\"Times,serif\" font-size=\"14.00\">*</text>\n</g>\n<!-- 139349306205728&#45;&gt;139349306205632* -->\n<g id=\"edge28\" class=\"edge\">\n<title>139349306205728&#45;&gt;139349306205632*</title>\n<path fill=\"none\" stroke=\"black\" d=\"M197.91,-73.5C207.65,-73.5 217.05,-73.5 225.52,-73.5\"/>\n<polygon fill=\"black\" stroke=\"black\" points=\"225.7,-77 235.7,-73.5 225.7,-70 225.7,-77\"/>\n</g>\n<!-- 139349299803664 -->\n<g id=\"node6\" class=\"node\">\n<title>139349299803664</title>\n<polygon fill=\"none\" stroke=\"black\" points=\"1670.5,-191.5 1670.5,-227.5 1856.5,-227.5 1856.5,-191.5 1670.5,-191.5\"/>\n<text text-anchor=\"middle\" x=\"1680.5\" y=\"-205.8\" font-family=\"Times,serif\" font-size=\"14.00\"> </text>\n<polyline fill=\"none\" stroke=\"black\" points=\"1690.5,-191.5 1690.5,-227.5 \"/>\n<text text-anchor=\"middle\" x=\"1730.5\" y=\"-205.8\" font-family=\"Times,serif\" font-size=\"14.00\">data 1.0000</text>\n<polyline fill=\"none\" stroke=\"black\" points=\"1770.5,-191.5 1770.5,-227.5 \"/>\n<text text-anchor=\"middle\" x=\"1813.5\" y=\"-205.8\" font-family=\"Times,serif\" font-size=\"14.00\">grad &#45;0.1036</text>\n</g>\n<!-- 139349299803520+ -->\n<g id=\"node23\" class=\"node\">\n<title>139349299803520+</title>\n<ellipse fill=\"none\" stroke=\"black\" cx=\"1920\" cy=\"-181.5\" rx=\"27\" ry=\"18\"/>\n<text text-anchor=\"middle\" x=\"1920\" y=\"-177.8\" font-family=\"Times,serif\" font-size=\"14.00\">+</text>\n</g>\n<!-- 139349299803664&#45;&gt;139349299803520+ -->\n<g id=\"edge18\" class=\"edge\">\n<title>139349299803664&#45;&gt;139349299803520+</title>\n<path fill=\"none\" stroke=\"black\" d=\"M1856.6,-192.81C1866.15,-191.08 1875.37,-189.41 1883.68,-187.9\"/>\n<polygon fill=\"black\" stroke=\"black\" points=\"1884.43,-191.32 1893.65,-186.09 1883.18,-184.43 1884.43,-191.32\"/>\n</g>\n<!-- 139349299795312 -->\n<g id=\"node7\" class=\"node\">\n<title>139349299795312</title>\n<polygon fill=\"none\" stroke=\"black\" points=\"2423,-161.5 2423,-197.5 2605,-197.5 2605,-161.5 2423,-161.5\"/>\n<text text-anchor=\"middle\" x=\"2433\" y=\"-175.8\" font-family=\"Times,serif\" font-size=\"14.00\"> </text>\n<polyline fill=\"none\" stroke=\"black\" points=\"2443,-161.5 2443,-197.5 \"/>\n<text text-anchor=\"middle\" x=\"2483\" y=\"-175.8\" font-family=\"Times,serif\" font-size=\"14.00\">data 0.1464</text>\n<polyline fill=\"none\" stroke=\"black\" points=\"2523,-161.5 2523,-197.5 \"/>\n<text text-anchor=\"middle\" x=\"2564\" y=\"-175.8\" font-family=\"Times,serif\" font-size=\"14.00\">grad 4.8284</text>\n</g>\n<!-- 139349299804000* -->\n<g id=\"node20\" class=\"node\">\n<title>139349299804000*</title>\n<ellipse fill=\"none\" stroke=\"black\" cx=\"2668\" cy=\"-153.5\" rx=\"27\" ry=\"18\"/>\n<text text-anchor=\"middle\" x=\"2668\" y=\"-149.8\" font-family=\"Times,serif\" font-size=\"14.00\">*</text>\n</g>\n<!-- 139349299795312&#45;&gt;139349299804000* -->\n<g id=\"edge23\" class=\"edge\">\n<title>139349299795312&#45;&gt;139349299804000*</title>\n<path fill=\"none\" stroke=\"black\" d=\"M2605.18,-164.08C2614.42,-162.49 2623.38,-160.96 2631.47,-159.58\"/>\n<polygon fill=\"black\" stroke=\"black\" points=\"2632.29,-162.99 2641.56,-157.85 2631.11,-156.09 2632.29,-162.99\"/>\n</g>\n<!-- 139349299795312**&#45;1 -->\n<g id=\"node8\" class=\"node\">\n<title>139349299795312**&#45;1</title>\n<ellipse fill=\"none\" stroke=\"black\" cx=\"2296\" cy=\"-181.5\" rx=\"27\" ry=\"18\"/>\n<text text-anchor=\"middle\" x=\"2296\" y=\"-177.8\" font-family=\"Times,serif\" font-size=\"14.00\">**&#45;1</text>\n</g>\n<!-- 139349299795312**&#45;1&#45;&gt;139349299795312 -->\n<g id=\"edge3\" class=\"edge\">\n<title>139349299795312**&#45;1&#45;&gt;139349299795312</title>\n<path fill=\"none\" stroke=\"black\" d=\"M2323.05,-181.26C2345.53,-181.05 2379.48,-180.74 2412.5,-180.43\"/>\n<polygon fill=\"black\" stroke=\"black\" points=\"2412.74,-183.93 2422.7,-180.34 2412.67,-176.93 2412.74,-183.93\"/>\n</g>\n<!-- 139349306202224 -->\n<g id=\"node9\" class=\"node\">\n<title>139349306202224</title>\n<polygon fill=\"none\" stroke=\"black\" points=\"2,-165.5 2,-201.5 198,-201.5 198,-165.5 2,-165.5\"/>\n<text text-anchor=\"middle\" x=\"17\" y=\"-179.8\" font-family=\"Times,serif\" font-size=\"14.00\">x1</text>\n<polyline fill=\"none\" stroke=\"black\" points=\"32,-165.5 32,-201.5 \"/>\n<text text-anchor=\"middle\" x=\"72\" y=\"-179.8\" font-family=\"Times,serif\" font-size=\"14.00\">data 2.0000</text>\n<polyline fill=\"none\" stroke=\"black\" points=\"112,-165.5 112,-201.5 \"/>\n<text text-anchor=\"middle\" x=\"155\" y=\"-179.8\" font-family=\"Times,serif\" font-size=\"14.00\">grad &#45;1.5000</text>\n</g>\n<!-- 139349306202224&#45;&gt;139349306197904* -->\n<g id=\"edge17\" class=\"edge\">\n<title>139349306202224&#45;&gt;139349306197904*</title>\n<path fill=\"none\" stroke=\"black\" d=\"M172.53,-165.44C181.84,-162.67 191.2,-159.67 200,-156.5 210.53,-152.71 221.75,-147.9 231.72,-143.33\"/>\n<polygon fill=\"black\" stroke=\"black\" points=\"233.25,-146.48 240.82,-139.07 230.28,-140.14 233.25,-146.48\"/>\n</g>\n<!-- 139349299799200 -->\n<g id=\"node10\" class=\"node\">\n<title>139349299799200</title>\n<polygon fill=\"none\" stroke=\"black\" points=\"1362,-136.5 1362,-172.5 1544,-172.5 1544,-136.5 1362,-136.5\"/>\n<text text-anchor=\"middle\" x=\"1372\" y=\"-150.8\" font-family=\"Times,serif\" font-size=\"14.00\"> </text>\n<polyline fill=\"none\" stroke=\"black\" points=\"1382,-136.5 1382,-172.5 \"/>\n<text text-anchor=\"middle\" x=\"1422\" y=\"-150.8\" font-family=\"Times,serif\" font-size=\"14.00\">data 1.7627</text>\n<polyline fill=\"none\" stroke=\"black\" points=\"1462,-136.5 1462,-172.5 \"/>\n<text text-anchor=\"middle\" x=\"1503\" y=\"-150.8\" font-family=\"Times,serif\" font-size=\"14.00\">grad 0.2500</text>\n</g>\n<!-- 139349299806016exp -->\n<g id=\"node16\" class=\"node\">\n<title>139349299806016exp</title>\n<ellipse fill=\"none\" stroke=\"black\" cx=\"1607\" cy=\"-154.5\" rx=\"27\" ry=\"18\"/>\n<text text-anchor=\"middle\" x=\"1607\" y=\"-150.8\" font-family=\"Times,serif\" font-size=\"14.00\">exp</text>\n</g>\n<!-- 139349299799200&#45;&gt;139349299806016exp -->\n<g id=\"edge24\" class=\"edge\">\n<title>139349299799200&#45;&gt;139349299806016exp</title>\n<path fill=\"none\" stroke=\"black\" d=\"M1544.18,-154.5C1553.14,-154.5 1561.83,-154.5 1569.73,-154.5\"/>\n<polygon fill=\"black\" stroke=\"black\" points=\"1569.96,-158 1579.96,-154.5 1569.96,-151 1569.96,-158\"/>\n</g>\n<!-- 139349299799200* -->\n<g id=\"node11\" class=\"node\">\n<title>139349299799200*</title>\n<ellipse fill=\"none\" stroke=\"black\" cx=\"1299\" cy=\"-154.5\" rx=\"27\" ry=\"18\"/>\n<text text-anchor=\"middle\" x=\"1299\" y=\"-150.8\" font-family=\"Times,serif\" font-size=\"14.00\">*</text>\n</g>\n<!-- 139349299799200*&#45;&gt;139349299799200 -->\n<g id=\"edge4\" class=\"edge\">\n<title>139349299799200*&#45;&gt;139349299799200</title>\n<path fill=\"none\" stroke=\"black\" d=\"M1326.13,-154.5C1333.67,-154.5 1342.39,-154.5 1351.64,-154.5\"/>\n<polygon fill=\"black\" stroke=\"black\" points=\"1351.87,-158 1361.87,-154.5 1351.87,-151 1351.87,-158\"/>\n</g>\n<!-- 139349299796704 -->\n<g id=\"node12\" class=\"node\">\n<title>139349299796704</title>\n<polygon fill=\"none\" stroke=\"black\" points=\"1052.5,-164.5 1052.5,-200.5 1234.5,-200.5 1234.5,-164.5 1052.5,-164.5\"/>\n<text text-anchor=\"middle\" x=\"1062.5\" y=\"-178.8\" font-family=\"Times,serif\" font-size=\"14.00\"> </text>\n<polyline fill=\"none\" stroke=\"black\" points=\"1072.5,-164.5 1072.5,-200.5 \"/>\n<text text-anchor=\"middle\" x=\"1112.5\" y=\"-178.8\" font-family=\"Times,serif\" font-size=\"14.00\">data 2.0000</text>\n<polyline fill=\"none\" stroke=\"black\" points=\"1152.5,-164.5 1152.5,-200.5 \"/>\n<text text-anchor=\"middle\" x=\"1193.5\" y=\"-178.8\" font-family=\"Times,serif\" font-size=\"14.00\">grad 0.2203</text>\n</g>\n<!-- 139349299796704&#45;&gt;139349299799200* -->\n<g id=\"edge22\" class=\"edge\">\n<title>139349299796704&#45;&gt;139349299799200*</title>\n<path fill=\"none\" stroke=\"black\" d=\"M1234.68,-166.05C1244.61,-164.24 1254.23,-162.48 1262.84,-160.91\"/>\n<polygon fill=\"black\" stroke=\"black\" points=\"1263.6,-164.33 1272.81,-159.09 1262.35,-157.45 1263.6,-164.33\"/>\n</g>\n<!-- 139349306201360 -->\n<g id=\"node13\" class=\"node\">\n<title>139349306201360</title>\n<polygon fill=\"none\" stroke=\"black\" points=\"1051,-109.5 1051,-145.5 1236,-145.5 1236,-109.5 1051,-109.5\"/>\n<text text-anchor=\"middle\" x=\"1062.5\" y=\"-123.8\" font-family=\"Times,serif\" font-size=\"14.00\">n</text>\n<polyline fill=\"none\" stroke=\"black\" points=\"1074,-109.5 1074,-145.5 \"/>\n<text text-anchor=\"middle\" x=\"1114\" y=\"-123.8\" font-family=\"Times,serif\" font-size=\"14.00\">data 0.8814</text>\n<polyline fill=\"none\" stroke=\"black\" points=\"1154,-109.5 1154,-145.5 \"/>\n<text text-anchor=\"middle\" x=\"1195\" y=\"-123.8\" font-family=\"Times,serif\" font-size=\"14.00\">grad 0.5000</text>\n</g>\n<!-- 139349306201360&#45;&gt;139349299799200* -->\n<g id=\"edge11\" class=\"edge\">\n<title>139349306201360&#45;&gt;139349299799200*</title>\n<path fill=\"none\" stroke=\"black\" d=\"M1236.01,-143.6C1245.49,-145.26 1254.66,-146.88 1262.9,-148.33\"/>\n<polygon fill=\"black\" stroke=\"black\" points=\"1262.36,-151.78 1272.81,-150.07 1263.57,-144.89 1262.36,-151.78\"/>\n</g>\n<!-- 139349306201360+&#45;&gt;139349306201360 -->\n<g id=\"edge5\" class=\"edge\">\n<title>139349306201360+&#45;&gt;139349306201360</title>\n<path fill=\"none\" stroke=\"black\" d=\"M1015.04,-127.5C1022.58,-127.5 1031.3,-127.5 1040.57,-127.5\"/>\n<polygon fill=\"black\" stroke=\"black\" points=\"1040.81,-131 1050.81,-127.5 1040.81,-124 1040.81,-131\"/>\n</g>\n<!-- 139349299806016 -->\n<g id=\"node15\" class=\"node\">\n<title>139349299806016</title>\n<polygon fill=\"none\" stroke=\"black\" points=\"1672.5,-136.5 1672.5,-172.5 1854.5,-172.5 1854.5,-136.5 1672.5,-136.5\"/>\n<text text-anchor=\"middle\" x=\"1682.5\" y=\"-150.8\" font-family=\"Times,serif\" font-size=\"14.00\"> </text>\n<polyline fill=\"none\" stroke=\"black\" points=\"1692.5,-136.5 1692.5,-172.5 \"/>\n<text text-anchor=\"middle\" x=\"1732.5\" y=\"-150.8\" font-family=\"Times,serif\" font-size=\"14.00\">data 5.8284</text>\n<polyline fill=\"none\" stroke=\"black\" points=\"1772.5,-136.5 1772.5,-172.5 \"/>\n<text text-anchor=\"middle\" x=\"1813.5\" y=\"-150.8\" font-family=\"Times,serif\" font-size=\"14.00\">grad 0.0429</text>\n</g>\n<!-- 139349299800400+ -->\n<g id=\"node18\" class=\"node\">\n<title>139349299800400+</title>\n<ellipse fill=\"none\" stroke=\"black\" cx=\"1920\" cy=\"-126.5\" rx=\"27\" ry=\"18\"/>\n<text text-anchor=\"middle\" x=\"1920\" y=\"-122.8\" font-family=\"Times,serif\" font-size=\"14.00\">+</text>\n</g>\n<!-- 139349299806016&#45;&gt;139349299800400+ -->\n<g id=\"edge27\" class=\"edge\">\n<title>139349299806016&#45;&gt;139349299800400+</title>\n<path fill=\"none\" stroke=\"black\" d=\"M1854.82,-138.13C1865.07,-136.27 1875.01,-134.47 1883.88,-132.87\"/>\n<polygon fill=\"black\" stroke=\"black\" points=\"1884.54,-136.3 1893.75,-131.08 1883.29,-129.42 1884.54,-136.3\"/>\n</g>\n<!-- 139349299806016&#45;&gt;139349299803520+ -->\n<g id=\"edge19\" class=\"edge\">\n<title>139349299806016&#45;&gt;139349299803520+</title>\n<path fill=\"none\" stroke=\"black\" d=\"M1854.82,-170.28C1865.07,-172.08 1875.01,-173.81 1883.88,-175.36\"/>\n<polygon fill=\"black\" stroke=\"black\" points=\"1883.3,-178.81 1893.75,-177.09 1884.5,-171.92 1883.3,-178.81\"/>\n</g>\n<!-- 139349299806016exp&#45;&gt;139349299806016 -->\n<g id=\"edge6\" class=\"edge\">\n<title>139349299806016exp&#45;&gt;139349299806016</title>\n<path fill=\"none\" stroke=\"black\" d=\"M1634.21,-154.5C1642.34,-154.5 1651.85,-154.5 1661.94,-154.5\"/>\n<polygon fill=\"black\" stroke=\"black\" points=\"1662.19,-158 1672.19,-154.5 1662.19,-151 1662.19,-158\"/>\n</g>\n<!-- 139349299800400 -->\n<g id=\"node17\" class=\"node\">\n<title>139349299800400</title>\n<polygon fill=\"none\" stroke=\"black\" points=\"2205,-108.5 2205,-144.5 2387,-144.5 2387,-108.5 2205,-108.5\"/>\n<text text-anchor=\"middle\" x=\"2215\" y=\"-122.8\" font-family=\"Times,serif\" font-size=\"14.00\"> </text>\n<polyline fill=\"none\" stroke=\"black\" points=\"2225,-108.5 2225,-144.5 \"/>\n<text text-anchor=\"middle\" x=\"2265\" y=\"-122.8\" font-family=\"Times,serif\" font-size=\"14.00\">data 4.8284</text>\n<polyline fill=\"none\" stroke=\"black\" points=\"2305,-108.5 2305,-144.5 \"/>\n<text text-anchor=\"middle\" x=\"2346\" y=\"-122.8\" font-family=\"Times,serif\" font-size=\"14.00\">grad 0.1464</text>\n</g>\n<!-- 139349299800400&#45;&gt;139349299804000* -->\n<g id=\"edge26\" class=\"edge\">\n<title>139349299800400&#45;&gt;139349299804000*</title>\n<path fill=\"none\" stroke=\"black\" d=\"M2387.04,-133.07C2465.41,-138.79 2574.98,-146.79 2630.96,-150.87\"/>\n<polygon fill=\"black\" stroke=\"black\" points=\"2630.87,-154.37 2641.1,-151.61 2631.38,-147.39 2630.87,-154.37\"/>\n</g>\n<!-- 139349299800400+&#45;&gt;139349299800400 -->\n<g id=\"edge7\" class=\"edge\">\n<title>139349299800400+&#45;&gt;139349299800400</title>\n<path fill=\"none\" stroke=\"black\" d=\"M1947,-126.5C1997.46,-126.5 2111.06,-126.5 2194.81,-126.5\"/>\n<polygon fill=\"black\" stroke=\"black\" points=\"2194.87,-130 2204.87,-126.5 2194.87,-123 2194.87,-130\"/>\n</g>\n<!-- 139349299804000 -->\n<g id=\"node19\" class=\"node\">\n<title>139349299804000</title>\n<polygon fill=\"none\" stroke=\"black\" points=\"2731,-135.5 2731,-171.5 2916,-171.5 2916,-135.5 2731,-135.5\"/>\n<text text-anchor=\"middle\" x=\"2742.5\" y=\"-149.8\" font-family=\"Times,serif\" font-size=\"14.00\">o</text>\n<polyline fill=\"none\" stroke=\"black\" points=\"2754,-135.5 2754,-171.5 \"/>\n<text text-anchor=\"middle\" x=\"2794\" y=\"-149.8\" font-family=\"Times,serif\" font-size=\"14.00\">data 0.7071</text>\n<polyline fill=\"none\" stroke=\"black\" points=\"2834,-135.5 2834,-171.5 \"/>\n<text text-anchor=\"middle\" x=\"2875\" y=\"-149.8\" font-family=\"Times,serif\" font-size=\"14.00\">grad 1.0000</text>\n</g>\n<!-- 139349299804000*&#45;&gt;139349299804000 -->\n<g id=\"edge8\" class=\"edge\">\n<title>139349299804000*&#45;&gt;139349299804000</title>\n<path fill=\"none\" stroke=\"black\" d=\"M2695.04,-153.5C2702.58,-153.5 2711.3,-153.5 2720.57,-153.5\"/>\n<polygon fill=\"black\" stroke=\"black\" points=\"2720.81,-157 2730.81,-153.5 2720.81,-150 2720.81,-157\"/>\n</g>\n<!-- 139349306196848 -->\n<g id=\"node21\" class=\"node\">\n<title>139349306196848</title>\n<polygon fill=\"none\" stroke=\"black\" points=\"0,-110.5 0,-146.5 200,-146.5 200,-110.5 0,-110.5\"/>\n<text text-anchor=\"middle\" x=\"16.5\" y=\"-124.8\" font-family=\"Times,serif\" font-size=\"14.00\">w1</text>\n<polyline fill=\"none\" stroke=\"black\" points=\"33,-110.5 33,-146.5 \"/>\n<text text-anchor=\"middle\" x=\"75.5\" y=\"-124.8\" font-family=\"Times,serif\" font-size=\"14.00\">data &#45;3.0000</text>\n<polyline fill=\"none\" stroke=\"black\" points=\"118,-110.5 118,-146.5 \"/>\n<text text-anchor=\"middle\" x=\"159\" y=\"-124.8\" font-family=\"Times,serif\" font-size=\"14.00\">grad 1.0000</text>\n</g>\n<!-- 139349306196848&#45;&gt;139349306197904* -->\n<g id=\"edge13\" class=\"edge\">\n<title>139349306196848&#45;&gt;139349306197904*</title>\n<path fill=\"none\" stroke=\"black\" d=\"M200.21,-128.5C209.2,-128.5 217.86,-128.5 225.7,-128.5\"/>\n<polygon fill=\"black\" stroke=\"black\" points=\"225.85,-132 235.85,-128.5 225.85,-125 225.85,-132\"/>\n</g>\n<!-- 139349299803520 -->\n<g id=\"node22\" class=\"node\">\n<title>139349299803520</title>\n<polygon fill=\"none\" stroke=\"black\" points=\"1983,-163.5 1983,-199.5 2169,-199.5 2169,-163.5 1983,-163.5\"/>\n<text text-anchor=\"middle\" x=\"1993\" y=\"-177.8\" font-family=\"Times,serif\" font-size=\"14.00\"> </text>\n<polyline fill=\"none\" stroke=\"black\" points=\"2003,-163.5 2003,-199.5 \"/>\n<text text-anchor=\"middle\" x=\"2043\" y=\"-177.8\" font-family=\"Times,serif\" font-size=\"14.00\">data 6.8284</text>\n<polyline fill=\"none\" stroke=\"black\" points=\"2083,-163.5 2083,-199.5 \"/>\n<text text-anchor=\"middle\" x=\"2126\" y=\"-177.8\" font-family=\"Times,serif\" font-size=\"14.00\">grad &#45;0.1036</text>\n</g>\n<!-- 139349299803520&#45;&gt;139349299795312**&#45;1 -->\n<g id=\"edge14\" class=\"edge\">\n<title>139349299803520&#45;&gt;139349299795312**&#45;1</title>\n<path fill=\"none\" stroke=\"black\" d=\"M2169.14,-181.5C2200.72,-181.5 2234.24,-181.5 2258.74,-181.5\"/>\n<polygon fill=\"black\" stroke=\"black\" points=\"2258.98,-185 2268.98,-181.5 2258.98,-178 2258.98,-185\"/>\n</g>\n<!-- 139349299803520+&#45;&gt;139349299803520 -->\n<g id=\"edge9\" class=\"edge\">\n<title>139349299803520+&#45;&gt;139349299803520</title>\n<path fill=\"none\" stroke=\"black\" d=\"M1947.12,-181.5C1954.62,-181.5 1963.29,-181.5 1972.5,-181.5\"/>\n<polygon fill=\"black\" stroke=\"black\" points=\"1972.69,-185 1982.69,-181.5 1972.69,-178 1972.69,-185\"/>\n</g>\n<!-- 139349306205584 -->\n<g id=\"node24\" class=\"node\">\n<title>139349306205584</title>\n<polygon fill=\"none\" stroke=\"black\" points=\"703,-137.5 703,-173.5 888,-173.5 888,-137.5 703,-137.5\"/>\n<text text-anchor=\"middle\" x=\"714.5\" y=\"-151.8\" font-family=\"Times,serif\" font-size=\"14.00\">b</text>\n<polyline fill=\"none\" stroke=\"black\" points=\"726,-137.5 726,-173.5 \"/>\n<text text-anchor=\"middle\" x=\"766\" y=\"-151.8\" font-family=\"Times,serif\" font-size=\"14.00\">data 6.8814</text>\n<polyline fill=\"none\" stroke=\"black\" points=\"806,-137.5 806,-173.5 \"/>\n<text text-anchor=\"middle\" x=\"847\" y=\"-151.8\" font-family=\"Times,serif\" font-size=\"14.00\">grad 0.5000</text>\n</g>\n<!-- 139349306205584&#45;&gt;139349306201360+ -->\n<g id=\"edge15\" class=\"edge\">\n<title>139349306205584&#45;&gt;139349306201360+</title>\n<path fill=\"none\" stroke=\"black\" d=\"M888.12,-142.03C910.59,-138.73 933.33,-135.39 951.33,-132.74\"/>\n<polygon fill=\"black\" stroke=\"black\" points=\"951.96,-136.19 961.34,-131.27 950.94,-129.26 951.96,-136.19\"/>\n</g>\n<!-- 139349306205632 -->\n<g id=\"node25\" class=\"node\">\n<title>139349306205632</title>\n<polygon fill=\"none\" stroke=\"black\" points=\"328.5,-55.5 328.5,-91.5 537.5,-91.5 537.5,-55.5 328.5,-55.5\"/>\n<text text-anchor=\"middle\" x=\"352\" y=\"-69.8\" font-family=\"Times,serif\" font-size=\"14.00\">x2w2</text>\n<polyline fill=\"none\" stroke=\"black\" points=\"375.5,-55.5 375.5,-91.5 \"/>\n<text text-anchor=\"middle\" x=\"415.5\" y=\"-69.8\" font-family=\"Times,serif\" font-size=\"14.00\">data 0.0000</text>\n<polyline fill=\"none\" stroke=\"black\" points=\"455.5,-55.5 455.5,-91.5 \"/>\n<text text-anchor=\"middle\" x=\"496.5\" y=\"-69.8\" font-family=\"Times,serif\" font-size=\"14.00\">grad 0.5000</text>\n</g>\n<!-- 139349306205632&#45;&gt;139349306211344+ -->\n<g id=\"edge16\" class=\"edge\">\n<title>139349306205632&#45;&gt;139349306211344+</title>\n<path fill=\"none\" stroke=\"black\" d=\"M537.53,-90.14C547.8,-91.79 557.66,-93.37 566.45,-94.79\"/>\n<polygon fill=\"black\" stroke=\"black\" points=\"566.16,-98.28 576.59,-96.42 567.27,-91.37 566.16,-98.28\"/>\n</g>\n<!-- 139349306205632*&#45;&gt;139349306205632 -->\n<g id=\"edge10\" class=\"edge\">\n<title>139349306205632*&#45;&gt;139349306205632</title>\n<path fill=\"none\" stroke=\"black\" d=\"M290.25,-73.5C298.43,-73.5 308.03,-73.5 318.31,-73.5\"/>\n<polygon fill=\"black\" stroke=\"black\" points=\"318.35,-77 328.35,-73.5 318.35,-70 318.35,-77\"/>\n</g>\n<!-- 139349306206160 -->\n<g id=\"node27\" class=\"node\">\n<title>139349306206160</title>\n<polygon fill=\"none\" stroke=\"black\" points=\"4,-0.5 4,-36.5 196,-36.5 196,-0.5 4,-0.5\"/>\n<text text-anchor=\"middle\" x=\"19\" y=\"-14.8\" font-family=\"Times,serif\" font-size=\"14.00\">x2</text>\n<polyline fill=\"none\" stroke=\"black\" points=\"34,-0.5 34,-36.5 \"/>\n<text text-anchor=\"middle\" x=\"74\" y=\"-14.8\" font-family=\"Times,serif\" font-size=\"14.00\">data 0.0000</text>\n<polyline fill=\"none\" stroke=\"black\" points=\"114,-0.5 114,-36.5 \"/>\n<text text-anchor=\"middle\" x=\"155\" y=\"-14.8\" font-family=\"Times,serif\" font-size=\"14.00\">grad 0.5000</text>\n</g>\n<!-- 139349306206160&#45;&gt;139349306205632* -->\n<g id=\"edge20\" class=\"edge\">\n<title>139349306206160&#45;&gt;139349306205632*</title>\n<path fill=\"none\" stroke=\"black\" d=\"M172.53,-36.56C181.84,-39.33 191.2,-42.33 200,-45.5 210.53,-49.29 221.75,-54.1 231.72,-58.67\"/>\n<polygon fill=\"black\" stroke=\"black\" points=\"230.28,-61.86 240.82,-62.93 233.25,-55.52 230.28,-61.86\"/>\n</g>\n<!-- 139349299805152 -->\n<g id=\"node28\" class=\"node\">\n<title>139349299805152</title>\n<polygon fill=\"none\" stroke=\"black\" points=\"1670,-81.5 1670,-117.5 1857,-117.5 1857,-81.5 1670,-81.5\"/>\n<text text-anchor=\"middle\" x=\"1680\" y=\"-95.8\" font-family=\"Times,serif\" font-size=\"14.00\"> </text>\n<polyline fill=\"none\" stroke=\"black\" points=\"1690,-81.5 1690,-117.5 \"/>\n<text text-anchor=\"middle\" x=\"1732.5\" y=\"-95.8\" font-family=\"Times,serif\" font-size=\"14.00\">data &#45;1.0000</text>\n<polyline fill=\"none\" stroke=\"black\" points=\"1775,-81.5 1775,-117.5 \"/>\n<text text-anchor=\"middle\" x=\"1816\" y=\"-95.8\" font-family=\"Times,serif\" font-size=\"14.00\">grad 0.1464</text>\n</g>\n<!-- 139349299805152&#45;&gt;139349299800400+ -->\n<g id=\"edge21\" class=\"edge\">\n<title>139349299805152&#45;&gt;139349299800400+</title>\n<path fill=\"none\" stroke=\"black\" d=\"M1857.05,-115.67C1866.34,-117.3 1875.33,-118.87 1883.44,-120.29\"/>\n<polygon fill=\"black\" stroke=\"black\" points=\"1883.1,-123.78 1893.55,-122.05 1884.3,-116.88 1883.1,-123.78\"/>\n</g>\n</g>\n</svg>\n",
            "text/plain": [
              "<graphviz.graphs.Digraph at 0x7ebcc9e54850>"
            ]
          },
          "metadata": {},
          "execution_count": 31
        }
      ]
    },
    {
      "cell_type": "markdown",
      "source": [
        "# Using PyTorch"
      ],
      "metadata": {
        "id": "KxMvKwzmHPyy"
      }
    },
    {
      "cell_type": "code",
      "source": [
        "import torch"
      ],
      "metadata": {
        "id": "qhF9JIhdI8cl"
      },
      "execution_count": 33,
      "outputs": []
    },
    {
      "cell_type": "code",
      "source": [
        "x1 = torch.Tensor([2.0]).double(); x1.requires_grad = True\n",
        "x2 = torch.Tensor([0.0]).double(); x2.requires_grad = True\n",
        "w1 = torch.Tensor([-3.0]).double(); w1.requires_grad = True\n",
        "w2 = torch.Tensor([1.0]).double(); w2.requires_grad = True\n",
        "b = torch.Tensor([6.8813735870195432]).double(); b.requires_grad = True\n",
        "n = x1*w1 + x2*w2 + b\n",
        "o = torch.tanh(n)\n",
        "\n",
        "print(o.data.item())\n",
        "o.backward()\n",
        "\n",
        "print(\"---\")\n",
        "print(\"x1\", x1.grad.item())\n",
        "print(\"x2\", x2.grad.item())\n",
        "print(\"w1\", w1.grad.item())\n",
        "print(\"w2\", w2.grad.item())"
      ],
      "metadata": {
        "colab": {
          "base_uri": "https://localhost:8080/"
        },
        "id": "U7liQNjfG68c",
        "outputId": "5a56e193-01a0-48dc-a4a8-76a73e337cb4"
      },
      "execution_count": 34,
      "outputs": [
        {
          "output_type": "stream",
          "name": "stdout",
          "text": [
            "0.7071066904050358\n",
            "---\n",
            "x1 -1.5000003851533106\n",
            "x2 0.5000001283844369\n",
            "w1 1.0000002567688737\n",
            "w2 0.0\n"
          ]
        }
      ]
    },
    {
      "cell_type": "markdown",
      "source": [
        "# Creating a Neural Network"
      ],
      "metadata": {
        "id": "y5iXGQc4NS4-"
      }
    },
    {
      "cell_type": "code",
      "source": [
        "import random"
      ],
      "metadata": {
        "id": "T3bLG1TkOUF3"
      },
      "execution_count": 36,
      "outputs": []
    },
    {
      "cell_type": "code",
      "source": [
        "class Neuron:\n",
        "\n",
        "    def __init__(self, nin):\n",
        "        self.w = [Value(random.uniform(-1, 1)) for _ in range(nin)]\n",
        "        self.b = Value(random.uniform(-1, 1))\n",
        "\n",
        "    def __call__(self, x):\n",
        "        act = sum(wi * xi for wi, xi in zip(self.w, x)) + self.b\n",
        "        out = act.tanh()\n",
        "        return out\n",
        "\n",
        "    def parameters(self):\n",
        "        return self.w + [self.b]\n",
        "\n",
        "class Layer:\n",
        "\n",
        "    def __init__(self, nin, nout):\n",
        "        self.neurons = [Neuron(nin) for _ in range(nout)]\n",
        "\n",
        "    def __call__(self, x):\n",
        "        outs = [n(x) for n in self.neurons]\n",
        "        return outs[0] if len(outs) == 1 else outs\n",
        "\n",
        "    def parameters(self):\n",
        "        params = []\n",
        "        for neuron in self.neurons:\n",
        "            ps = neuron.parameters()\n",
        "            params.extend(ps)\n",
        "        return params\n",
        "\n",
        "class MLP: # Multi Layer Perceptron\n",
        "\n",
        "    def __init__(self, nin, nouts): # nouts => List of nout for each layer\n",
        "        sz = [nin] + nouts\n",
        "        self.layers = [Layer(sz[i], sz[i+1]) for i in range(len(sz)-1)]\n",
        "\n",
        "    def __call__(self, x):\n",
        "        for layer in self.layers:\n",
        "            x = layer(x)\n",
        "        return x\n",
        "\n",
        "    def parameters(self):\n",
        "        params = []\n",
        "        for layer in self.layers:\n",
        "            ps = layer.parameters()\n",
        "            params.extend(ps)\n",
        "        return params"
      ],
      "metadata": {
        "id": "Vp2sUuwrNX1f"
      },
      "execution_count": 76,
      "outputs": []
    },
    {
      "cell_type": "code",
      "source": [
        "x = [2.0, 3.0, -1.0]\n",
        "n = MLP(3, [4, 4, 1])\n",
        "n(x)"
      ],
      "metadata": {
        "colab": {
          "base_uri": "https://localhost:8080/"
        },
        "id": "ppMH4ATefrCH",
        "outputId": "d092e278-95d1-42a5-bcc0-9587ed40a6f4"
      },
      "execution_count": 220,
      "outputs": [
        {
          "output_type": "execute_result",
          "data": {
            "text/plain": [
              "Value(data=0.8980507035046891)"
            ]
          },
          "metadata": {},
          "execution_count": 220
        }
      ]
    },
    {
      "cell_type": "markdown",
      "source": [
        "# Creating a small dataset and writing the loss function"
      ],
      "metadata": {
        "id": "kU-Kw1C4ZYkb"
      }
    },
    {
      "cell_type": "code",
      "source": [
        "xs = [\n",
        "    [2.0, 3.0, -1.0],\n",
        "    [3.0, -1.0, 0.5],\n",
        "    [0.5, 1.0, 1.0],\n",
        "    [1.0, 1.0, -1.0]\n",
        "]\n",
        "ys = [1.0, -1.0, -1.0, 1.0] # desired outputs\n",
        "n = MLP(3, [4, 4, 1])"
      ],
      "metadata": {
        "id": "4Ad_MAoZYHyx"
      },
      "execution_count": 225,
      "outputs": []
    },
    {
      "cell_type": "code",
      "source": [
        "for k in range(50):\n",
        "\n",
        "    # Calculate Predictions\n",
        "    ypred = [n(x) for x in xs]\n",
        "\n",
        "    # Calculate loss\n",
        "    loss = sum((yout - ygt) ** 2 for ygt, yout in zip(ys, ypred)) # Mean Squared Error\n",
        "\n",
        "    # Back propagate through loss\n",
        "    for p in n.parameters():\n",
        "        p.grad = 0.0\n",
        "    loss.backward()\n",
        "\n",
        "    # Nudge the parameters\n",
        "    for p in n.parameters():\n",
        "        p.data += -0.1 * p.grad\n",
        "\n",
        "    print(k, loss.data)"
      ],
      "metadata": {
        "id": "-XcfMNdTr7LU"
      },
      "execution_count": null,
      "outputs": []
    },
    {
      "cell_type": "code",
      "source": [
        "ypred"
      ],
      "metadata": {
        "colab": {
          "base_uri": "https://localhost:8080/"
        },
        "id": "vqyTYYjes2AI",
        "outputId": "a9cb329b-cffd-4f35-bcd6-b615765c12a5"
      },
      "execution_count": 266,
      "outputs": [
        {
          "output_type": "execute_result",
          "data": {
            "text/plain": [
              "[Value(data=-0.049762522735587386),\n",
              " Value(data=-0.04408048634618112),\n",
              " Value(data=-0.044929873499042615),\n",
              " Value(data=0.9647430594948142)]"
            ]
          },
          "metadata": {},
          "execution_count": 266
        }
      ]
    },
    {
      "cell_type": "markdown",
      "source": [
        "# Predicting output for AND gate"
      ],
      "metadata": {
        "id": "nODGaWYXxb_8"
      }
    },
    {
      "cell_type": "code",
      "source": [
        "xs = [\n",
        "    [0.0, 0.0],\n",
        "    [0.0, 1.0],\n",
        "    [1.0, 0.0],\n",
        "    [1.0, 1.0]\n",
        "]\n",
        "ys = [0.0, 0.0, 0.0, 1.0]\n",
        "n = MLP(2, [4, 4, 1])"
      ],
      "metadata": {
        "id": "dk6M_zBRxWdX"
      },
      "execution_count": null,
      "outputs": []
    },
    {
      "cell_type": "code",
      "source": [
        "for k in range(50):\n",
        "\n",
        "    # Calculate Predictions\n",
        "    ypred = [n(x) for x in xs]\n",
        "\n",
        "    # Calculate loss\n",
        "    loss = sum((yout - ygt) ** 2 for ygt, yout in zip(ys, ypred)) # Mean Squared Error\n",
        "\n",
        "    # Back propagate through loss\n",
        "    for p in n.parameters():\n",
        "        p.grad = 0.0\n",
        "    loss.backward()\n",
        "\n",
        "    # Nudge the parameters\n",
        "    for p in n.parameters():\n",
        "        p.data += -0.1 * p.grad\n",
        "\n",
        "    print(k, loss.data)"
      ],
      "metadata": {
        "id": "DnW5c63BxYTN"
      },
      "execution_count": null,
      "outputs": []
    },
    {
      "cell_type": "code",
      "source": [
        "ypred"
      ],
      "metadata": {
        "id": "fSWuJHlExazs"
      },
      "execution_count": null,
      "outputs": []
    }
  ]
}