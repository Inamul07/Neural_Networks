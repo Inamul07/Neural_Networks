{
  "cells": [
    {
      "cell_type": "markdown",
      "metadata": {
        "id": "kSAAGp_DHGAG"
      },
      "source": [
        "# Building Micrograd"
      ]
    },
    {
      "cell_type": "code",
      "execution_count": 2,
      "metadata": {
        "id": "jwwdk1P6itCQ"
      },
      "outputs": [],
      "source": [
        "import math"
      ]
    },
    {
      "cell_type": "code",
      "execution_count": 3,
      "metadata": {
        "id": "4s6skWdVMnoD"
      },
      "outputs": [],
      "source": [
        "class Value:\n",
        "\n",
        "    def __init__(self, data, _children = (), _op = '', label = ''):\n",
        "        self.data = data\n",
        "        self._prev = set(_children)\n",
        "        self._op = _op\n",
        "        self.label = label\n",
        "        self.grad = 0.0\n",
        "        self._backward = lambda: None\n",
        "\n",
        "    def __repr__(self):\n",
        "        return f\"Value(data={self.data})\"\n",
        "\n",
        "    def __add__(self, other):\n",
        "        other = other if isinstance(other, Value) else Value(other)\n",
        "        out = Value(self.data + other.data, (self, other), '+')\n",
        "\n",
        "        def _backward():\n",
        "            self.grad += 1.0 * out.grad\n",
        "            other.grad += 1.0 * out.grad\n",
        "\n",
        "        out._backward = _backward\n",
        "        return out\n",
        "\n",
        "    def __radd__(self, other):\n",
        "        return self + other\n",
        "\n",
        "    def __sub__(self, other):\n",
        "        return self + (-other)\n",
        "\n",
        "    def __neg__(self):\n",
        "        return self * -1\n",
        "\n",
        "    def __mul__(self, other):\n",
        "        other = other if isinstance(other, Value) else Value(other)\n",
        "        out = Value(self.data * other.data, (self, other), '*')\n",
        "\n",
        "        def _backward():\n",
        "            self.grad += other.data * out.grad\n",
        "            other.grad += self.data * out.grad\n",
        "\n",
        "        out._backward = _backward\n",
        "        return out\n",
        "\n",
        "    def __rmul__(self, other):\n",
        "        return self * other\n",
        "\n",
        "    def __truediv__(self, other):\n",
        "        return self * (other ** -1)\n",
        "\n",
        "    def __pow__(self, other):\n",
        "        assert isinstance(other, (int, float)), \"only supporting int/float values for now\"\n",
        "        out = Value(self.data ** other, (self, ), f'**{other}')\n",
        "\n",
        "        def _backward():\n",
        "            self.grad += other * (self.data ** (other - 1)) * out.grad\n",
        "\n",
        "        out._backward = _backward\n",
        "        return out\n",
        "\n",
        "    def exp(self):\n",
        "        x = self.data\n",
        "        out = Value(math.exp(x), (self, ), 'exp')\n",
        "\n",
        "        def _backward():\n",
        "            self.grad += out.data * out.grad\n",
        "\n",
        "        out._backward = _backward\n",
        "        return out\n",
        "\n",
        "    def tanh(self):\n",
        "        x = self.data\n",
        "        t = (math.exp(2 * x) - 1) / (math.exp(2 * x) + 1)\n",
        "        out = Value(t, (self, ), 'tanh')\n",
        "\n",
        "        def _backward():\n",
        "            self.grad += (1 - out.data ** 2) * out.grad\n",
        "\n",
        "        out._backward = _backward\n",
        "        return out\n",
        "\n",
        "    def backward(self):\n",
        "        topo = []\n",
        "        visited = set()\n",
        "\n",
        "        def build_topo(v):\n",
        "            if v not in visited:\n",
        "                visited.add(v)\n",
        "                for child in v._prev:\n",
        "                    build_topo(child)\n",
        "                topo.append(v)\n",
        "\n",
        "        build_topo(self)\n",
        "        self.grad = 1.0\n",
        "        for node in reversed(topo):\n",
        "            node._backward()\n",
        "\n"
      ]
    },
    {
      "cell_type": "code",
      "execution_count": 4,
      "metadata": {
        "id": "M8kTCrpvI7I7"
      },
      "outputs": [],
      "source": [
        "from graphviz import Digraph\n",
        "\n",
        "def trace(root):\n",
        "    nodes, edges = set(), set()\n",
        "\n",
        "    def build(v):\n",
        "        if v not in nodes:\n",
        "            nodes.add(v)\n",
        "            for child in v._prev:\n",
        "                edges.add((child, v))\n",
        "                build(child)\n",
        "\n",
        "    build(root)\n",
        "    return nodes, edges\n",
        "\n",
        "def draw_dot(root):\n",
        "    dot = Digraph(format = 'svg', graph_attr = {'rankdir': 'LR'})\n",
        "\n",
        "    nodes, edges = trace(root)\n",
        "    for n in nodes:\n",
        "        uid = str(id(n))\n",
        "        dot.node(name = uid, label = \"{ %s | data %.4f | grad %.4f }\" % (n.label, n.data, n.grad, ), shape = 'record')\n",
        "        if n._op:\n",
        "            dot.node(name = uid + n._op, label = n._op)\n",
        "            dot.edge(uid + n._op, uid)\n",
        "\n",
        "    for n1, n2 in edges:\n",
        "        dot.edge(str(id(n1)), str(id(n2)) + n2._op)\n",
        "\n",
        "    return dot"
      ]
    },
    {
      "cell_type": "code",
      "execution_count": null,
      "metadata": {
        "colab": {
          "base_uri": "https://localhost:8080/",
          "height": 356
        },
        "id": "4M0tsflsRgbK",
        "outputId": "a34889dc-429c-4522-97ca-6f426e667f73"
      },
      "outputs": [],
      "source": [
        "# inputs x1, x2\n",
        "x1 = Value(2.0, label = 'x1')\n",
        "x2 = Value(0.0, label = 'x2')\n",
        "# weights w1, w2\n",
        "w1 = Value(-3.0, label = 'w1')\n",
        "w2 = Value(1.0, label = 'w2')\n",
        "# bias of the neuron\n",
        "b = Value(6.8813735870195432, label = 'b')\n",
        "# x1 * w1 + x2 * w2 + b\n",
        "x1w1 = x1 * w1; x1w1.label = 'x1w1'\n",
        "x2w2 = x2 * w2; x2w2.label = 'x2w2'\n",
        "x1w1plusx2w2 = x1w1 + x2w2; x1w1plusx2w2.label = 'x1w1 + x2w2'\n",
        "n = x1w1plusx2w2 + b; n.label = 'n'\n",
        "# --- tanh ---\n",
        "e = (2 * n).exp()\n",
        "o = (e - 1) / (e + 1); o.label = 'o'\n",
        "# ------------\n",
        "o.backward()\n",
        "draw_dot(o)"
      ]
    },
    {
      "cell_type": "markdown",
      "metadata": {
        "id": "KxMvKwzmHPyy"
      },
      "source": [
        "# Using PyTorch"
      ]
    },
    {
      "cell_type": "code",
      "execution_count": null,
      "metadata": {
        "id": "qhF9JIhdI8cl"
      },
      "outputs": [],
      "source": [
        "import torch"
      ]
    },
    {
      "cell_type": "code",
      "execution_count": null,
      "metadata": {
        "colab": {
          "base_uri": "https://localhost:8080/"
        },
        "id": "U7liQNjfG68c",
        "outputId": "5a56e193-01a0-48dc-a4a8-76a73e337cb4"
      },
      "outputs": [],
      "source": [
        "x1 = torch.Tensor([2.0]).double(); x1.requires_grad = True\n",
        "x2 = torch.Tensor([0.0]).double(); x2.requires_grad = True\n",
        "w1 = torch.Tensor([-3.0]).double(); w1.requires_grad = True\n",
        "w2 = torch.Tensor([1.0]).double(); w2.requires_grad = True\n",
        "b = torch.Tensor([6.8813735870195432]).double(); b.requires_grad = True\n",
        "n = x1*w1 + x2*w2 + b\n",
        "o = torch.tanh(n)\n",
        "\n",
        "print(o.data.item())\n",
        "o.backward()\n",
        "\n",
        "print(\"---\")\n",
        "print(\"x1\", x1.grad.item())\n",
        "print(\"x2\", x2.grad.item())\n",
        "print(\"w1\", w1.grad.item())\n",
        "print(\"w2\", w2.grad.item())"
      ]
    },
    {
      "cell_type": "markdown",
      "metadata": {
        "id": "y5iXGQc4NS4-"
      },
      "source": [
        "# Creating a Neural Network"
      ]
    },
    {
      "cell_type": "code",
      "execution_count": 10,
      "metadata": {
        "id": "T3bLG1TkOUF3"
      },
      "outputs": [],
      "source": [
        "import random"
      ]
    },
    {
      "cell_type": "code",
      "execution_count": 11,
      "metadata": {
        "id": "Vp2sUuwrNX1f"
      },
      "outputs": [],
      "source": [
        "class Neuron:\n",
        "\n",
        "    def __init__(self, nin):\n",
        "        self.w = [Value(random.uniform(-1, 1)) for _ in range(nin)]\n",
        "        self.b = Value(random.uniform(-1, 1))\n",
        "\n",
        "    def __call__(self, x):\n",
        "        act = sum(wi * xi for wi, xi in zip(self.w, x)) + self.b\n",
        "        out = act.tanh()\n",
        "        return out\n",
        "\n",
        "    def parameters(self):\n",
        "        return self.w + [self.b]\n",
        "\n",
        "class Layer:\n",
        "\n",
        "    def __init__(self, nin, nout):\n",
        "        self.neurons = [Neuron(nin) for _ in range(nout)]\n",
        "\n",
        "    def __call__(self, x):\n",
        "        outs = [n(x) for n in self.neurons]\n",
        "        return outs[0] if len(outs) == 1 else outs\n",
        "\n",
        "    def parameters(self):\n",
        "        params = []\n",
        "        for neuron in self.neurons:\n",
        "            ps = neuron.parameters()\n",
        "            params.extend(ps)\n",
        "        return params\n",
        "\n",
        "class MLP: # Multi Layer Perceptron\n",
        "\n",
        "    def __init__(self, nin, nouts): # nouts => List of nout for each layer\n",
        "        sz = [nin] + nouts\n",
        "        self.layers = [Layer(sz[i], sz[i+1]) for i in range(len(sz)-1)]\n",
        "\n",
        "    def __call__(self, x):\n",
        "        for layer in self.layers:\n",
        "            x = layer(x)\n",
        "        return x\n",
        "\n",
        "    def parameters(self):\n",
        "        params = []\n",
        "        for layer in self.layers:\n",
        "            ps = layer.parameters()\n",
        "            params.extend(ps)\n",
        "        return params"
      ]
    },
    {
      "cell_type": "code",
      "execution_count": null,
      "metadata": {
        "colab": {
          "base_uri": "https://localhost:8080/"
        },
        "id": "ppMH4ATefrCH",
        "outputId": "d092e278-95d1-42a5-bcc0-9587ed40a6f4"
      },
      "outputs": [],
      "source": [
        "x = [2.0, 3.0, -1.0]\n",
        "n = MLP(3, [4, 4, 1])\n",
        "n(x)"
      ]
    },
    {
      "cell_type": "markdown",
      "metadata": {
        "id": "kU-Kw1C4ZYkb"
      },
      "source": [
        "# Creating a small dataset and writing the loss function"
      ]
    },
    {
      "cell_type": "code",
      "execution_count": 13,
      "metadata": {
        "id": "4Ad_MAoZYHyx"
      },
      "outputs": [],
      "source": [
        "xs = [\n",
        "    [2.0, 3.0, -1.0],\n",
        "    [3.0, -1.0, 0.5],\n",
        "    [0.5, 1.0, 1.0],\n",
        "    [1.0, 1.0, -1.0]\n",
        "]\n",
        "ys = [1.0, -1.0, -1.0, 1.0] # desired outputs\n",
        "n = MLP(3, [4, 4, 1])"
      ]
    },
    {
      "cell_type": "code",
      "execution_count": null,
      "metadata": {
        "id": "-XcfMNdTr7LU"
      },
      "outputs": [],
      "source": [
        "for k in range(50):\n",
        "\n",
        "    # Calculate Predictions\n",
        "    ypred = [n(x) for x in xs]\n",
        "\n",
        "    # Calculate loss\n",
        "    loss = sum((yout - ygt) ** 2 for ygt, yout in zip(ys, ypred)) # Mean Squared Error\n",
        "\n",
        "    # Back propagate through loss\n",
        "    for p in n.parameters():\n",
        "        p.grad = 0.0\n",
        "    loss.backward()\n",
        "\n",
        "    # Nudge the parameters\n",
        "    for p in n.parameters():\n",
        "        p.data += -0.1 * p.grad\n",
        "\n",
        "    print(k, loss.data)"
      ]
    },
    {
      "cell_type": "code",
      "execution_count": null,
      "metadata": {
        "colab": {
          "base_uri": "https://localhost:8080/"
        },
        "id": "vqyTYYjes2AI",
        "outputId": "a9cb329b-cffd-4f35-bcd6-b615765c12a5"
      },
      "outputs": [],
      "source": [
        "ypred"
      ]
    },
    {
      "cell_type": "markdown",
      "metadata": {
        "id": "nODGaWYXxb_8"
      },
      "source": [
        "# Predicting output for AND gate"
      ]
    },
    {
      "cell_type": "code",
      "execution_count": 16,
      "metadata": {
        "id": "dk6M_zBRxWdX"
      },
      "outputs": [],
      "source": [
        "xs = [\n",
        "    [0.0, 0.0],\n",
        "    [0.0, 1.0],\n",
        "    [1.0, 0.0],\n",
        "    [1.0, 1.0]\n",
        "]\n",
        "ys = [0.0, 0.0, 0.0, 1.0]\n",
        "n = MLP(2, [4, 4, 1])"
      ]
    },
    {
      "cell_type": "code",
      "execution_count": null,
      "metadata": {
        "id": "DnW5c63BxYTN"
      },
      "outputs": [],
      "source": [
        "for k in range(50):\n",
        "\n",
        "    # Calculate Predictions\n",
        "    ypred = [n(x) for x in xs]\n",
        "\n",
        "    # Calculate loss\n",
        "    loss = sum((yout - ygt) ** 2 for ygt, yout in zip(ys, ypred)) # Mean Squared Error\n",
        "\n",
        "    # Back propagate through loss\n",
        "    for p in n.parameters():\n",
        "        p.grad = 0.0\n",
        "    loss.backward()\n",
        "\n",
        "    # Nudge the parameters\n",
        "    for p in n.parameters():\n",
        "        p.data += -0.1 * p.grad\n",
        "\n",
        "    print(k, loss.data)"
      ]
    },
    {
      "cell_type": "code",
      "execution_count": null,
      "metadata": {
        "id": "fSWuJHlExazs"
      },
      "outputs": [],
      "source": [
        "ypred"
      ]
    }
  ],
  "metadata": {
    "colab": {
      "provenance": []
    },
    "kernelspec": {
      "display_name": ".venv",
      "language": "python",
      "name": "python3"
    },
    "language_info": {
      "codemirror_mode": {
        "name": "ipython",
        "version": 3
      },
      "file_extension": ".py",
      "mimetype": "text/x-python",
      "name": "python",
      "nbconvert_exporter": "python",
      "pygments_lexer": "ipython3",
      "version": "3.9.6"
    }
  },
  "nbformat": 4,
  "nbformat_minor": 0
}
